{
 "cells": [
  {
   "cell_type": "code",
   "execution_count": 1,
   "id": "1dca6622",
   "metadata": {},
   "outputs": [],
   "source": [
    "# Import the necessary libraries \n",
    "import pandas as pd\n",
    "import numpy as np\n",
    "import matplotlib.pyplot as plt\n",
    "import seaborn as sb\n",
    "%matplotlib inline"
   ]
  },
  {
   "cell_type": "code",
   "execution_count": 2,
   "id": "5a57b3ab",
   "metadata": {},
   "outputs": [],
   "source": [
    "# Read in the datasets \n",
    "content = pd.read_csv('Content.csv')\n",
    "reactions = pd.read_csv('Reactions.csv')\n",
    "reaction_types = pd.read_csv('ReactionTypes.csv')"
   ]
  },
  {
   "cell_type": "code",
   "execution_count": 3,
   "id": "553648bd",
   "metadata": {},
   "outputs": [],
   "source": [
    "dataframes = [content, reactions, reaction_types]"
   ]
  },
  {
   "cell_type": "code",
   "execution_count": 4,
   "id": "4b1e81bd",
   "metadata": {},
   "outputs": [
    {
     "name": "stdout",
     "output_type": "stream",
     "text": [
      "(1000, 6)\n",
      "(25553, 5)\n",
      "(16, 4)\n"
     ]
    }
   ],
   "source": [
    "for df in dataframes:\n",
    "    print(df.shape)"
   ]
  },
  {
   "cell_type": "code",
   "execution_count": 5,
   "id": "01f7793a",
   "metadata": {
    "scrolled": false
   },
   "outputs": [
    {
     "data": {
      "text/plain": [
       "Unnamed: 0    1000\n",
       "Content ID    1000\n",
       "User ID        446\n",
       "Type             4\n",
       "Category        41\n",
       "URL            801\n",
       "dtype: int64"
      ]
     },
     "execution_count": 5,
     "metadata": {},
     "output_type": "execute_result"
    }
   ],
   "source": [
    "content.nunique()"
   ]
  },
  {
   "cell_type": "code",
   "execution_count": 6,
   "id": "984b2d53",
   "metadata": {
    "scrolled": true
   },
   "outputs": [
    {
     "data": {
      "text/plain": [
       "technology           71\n",
       "animals              67\n",
       "travel               67\n",
       "culture              63\n",
       "science              63\n",
       "fitness              61\n",
       "food                 61\n",
       "healthy eating       61\n",
       "cooking              60\n",
       "soccer               58\n",
       "tennis               58\n",
       "education            57\n",
       "dogs                 56\n",
       "studying             55\n",
       "veganism             48\n",
       "public speaking      48\n",
       "Fitness               5\n",
       "Animals               4\n",
       "Science               4\n",
       "\"soccer\"              3\n",
       "\"culture\"             3\n",
       "Soccer                3\n",
       "\"dogs\"                2\n",
       "Education             2\n",
       "Studying              2\n",
       "Travel                2\n",
       "Food                  2\n",
       "\"veganism\"            1\n",
       "\"public speaking\"     1\n",
       "Public Speaking       1\n",
       "\"technology\"          1\n",
       "\"cooking\"             1\n",
       "Healthy Eating        1\n",
       "\"studying\"            1\n",
       "\"food\"                1\n",
       "Culture               1\n",
       "\"tennis\"              1\n",
       "Technology            1\n",
       "\"animals\"             1\n",
       "Veganism              1\n",
       "\"science\"             1\n",
       "Name: Category, dtype: int64"
      ]
     },
     "execution_count": 6,
     "metadata": {},
     "output_type": "execute_result"
    }
   ],
   "source": [
    "content['Category'].value_counts()"
   ]
  },
  {
   "cell_type": "markdown",
   "id": "a86f34cd",
   "metadata": {},
   "source": [
    "`41 unique categories`- There are category names that are the same but the versions of the same names are capitalized, lower-case or in quotations. All category names need to be in the same format to get the end result of the top five categories. One way to fix this issue is to remove the quotations from all the words in this series and capitalize the first letter of every word in the series. \n",
    "\n",
    "`1000 unique Content ID`"
   ]
  },
  {
   "cell_type": "code",
   "execution_count": 7,
   "id": "8c37babe",
   "metadata": {
    "scrolled": true
   },
   "outputs": [
    {
     "data": {
      "text/plain": [
       "Unnamed: 0    25553\n",
       "Content ID      980\n",
       "User ID         500\n",
       "Type             16\n",
       "Datetime      25542\n",
       "dtype: int64"
      ]
     },
     "execution_count": 7,
     "metadata": {},
     "output_type": "execute_result"
    }
   ],
   "source": [
    "reactions.nunique()"
   ]
  },
  {
   "cell_type": "markdown",
   "id": "e13b3bcc",
   "metadata": {},
   "source": [
    "`Reactions on 980 unique Content IDs`\n",
    "\n",
    "`The type in content df is photo, video, etc versus type in reactions is disgust, love, etc so type is not a matching column for merging in content and reactions df`\n",
    "\n",
    "`Merging on the unique identifier Content IDs later in the analysis`"
   ]
  },
  {
   "cell_type": "code",
   "execution_count": 8,
   "id": "510c4a4e",
   "metadata": {},
   "outputs": [
    {
     "name": "stdout",
     "output_type": "stream",
     "text": [
      "<class 'pandas.core.frame.DataFrame'>\n",
      "RangeIndex: 1000 entries, 0 to 999\n",
      "Data columns (total 6 columns):\n",
      " #   Column      Non-Null Count  Dtype \n",
      "---  ------      --------------  ----- \n",
      " 0   Unnamed: 0  1000 non-null   int64 \n",
      " 1   Content ID  1000 non-null   object\n",
      " 2   User ID     1000 non-null   object\n",
      " 3   Type        1000 non-null   object\n",
      " 4   Category    1000 non-null   object\n",
      " 5   URL         801 non-null    object\n",
      "dtypes: int64(1), object(5)\n",
      "memory usage: 47.0+ KB\n"
     ]
    }
   ],
   "source": [
    "# Visual asssessment of each dataset\n",
    "content.info()"
   ]
  },
  {
   "cell_type": "code",
   "execution_count": 9,
   "id": "fa8359fd",
   "metadata": {},
   "outputs": [
    {
     "data": {
      "text/html": [
       "<div>\n",
       "<style scoped>\n",
       "    .dataframe tbody tr th:only-of-type {\n",
       "        vertical-align: middle;\n",
       "    }\n",
       "\n",
       "    .dataframe tbody tr th {\n",
       "        vertical-align: top;\n",
       "    }\n",
       "\n",
       "    .dataframe thead th {\n",
       "        text-align: right;\n",
       "    }\n",
       "</style>\n",
       "<table border=\"1\" class=\"dataframe\">\n",
       "  <thead>\n",
       "    <tr style=\"text-align: right;\">\n",
       "      <th></th>\n",
       "      <th>Unnamed: 0</th>\n",
       "      <th>Content ID</th>\n",
       "      <th>User ID</th>\n",
       "      <th>Type</th>\n",
       "      <th>Category</th>\n",
       "      <th>URL</th>\n",
       "    </tr>\n",
       "  </thead>\n",
       "  <tbody>\n",
       "    <tr>\n",
       "      <th>0</th>\n",
       "      <td>0</td>\n",
       "      <td>97522e57-d9ab-4bd6-97bf-c24d952602d2</td>\n",
       "      <td>8d3cd87d-8a31-4935-9a4f-b319bfe05f31</td>\n",
       "      <td>photo</td>\n",
       "      <td>Studying</td>\n",
       "      <td>https://socialbuzz.cdn.com/content/storage/975...</td>\n",
       "    </tr>\n",
       "    <tr>\n",
       "      <th>1</th>\n",
       "      <td>1</td>\n",
       "      <td>9f737e0a-3cdd-4d29-9d24-753f4e3be810</td>\n",
       "      <td>beb1f34e-7870-46d6-9fc7-2e12eb83ce43</td>\n",
       "      <td>photo</td>\n",
       "      <td>healthy eating</td>\n",
       "      <td>https://socialbuzz.cdn.com/content/storage/9f7...</td>\n",
       "    </tr>\n",
       "    <tr>\n",
       "      <th>2</th>\n",
       "      <td>2</td>\n",
       "      <td>230c4e4d-70c3-461d-b42c-ec09396efb3f</td>\n",
       "      <td>a5c65404-5894-4b87-82f2-d787cbee86b4</td>\n",
       "      <td>photo</td>\n",
       "      <td>healthy eating</td>\n",
       "      <td>https://socialbuzz.cdn.com/content/storage/230...</td>\n",
       "    </tr>\n",
       "    <tr>\n",
       "      <th>3</th>\n",
       "      <td>3</td>\n",
       "      <td>356fff80-da4d-4785-9f43-bc1261031dc6</td>\n",
       "      <td>9fb4ce88-fac1-406c-8544-1a899cee7aaf</td>\n",
       "      <td>photo</td>\n",
       "      <td>technology</td>\n",
       "      <td>https://socialbuzz.cdn.com/content/storage/356...</td>\n",
       "    </tr>\n",
       "    <tr>\n",
       "      <th>4</th>\n",
       "      <td>4</td>\n",
       "      <td>01ab84dd-6364-4236-abbb-3f237db77180</td>\n",
       "      <td>e206e31b-5f85-4964-b6ea-d7ee5324def1</td>\n",
       "      <td>video</td>\n",
       "      <td>food</td>\n",
       "      <td>https://socialbuzz.cdn.com/content/storage/01a...</td>\n",
       "    </tr>\n",
       "  </tbody>\n",
       "</table>\n",
       "</div>"
      ],
      "text/plain": [
       "   Unnamed: 0                            Content ID  \\\n",
       "0           0  97522e57-d9ab-4bd6-97bf-c24d952602d2   \n",
       "1           1  9f737e0a-3cdd-4d29-9d24-753f4e3be810   \n",
       "2           2  230c4e4d-70c3-461d-b42c-ec09396efb3f   \n",
       "3           3  356fff80-da4d-4785-9f43-bc1261031dc6   \n",
       "4           4  01ab84dd-6364-4236-abbb-3f237db77180   \n",
       "\n",
       "                                User ID   Type        Category  \\\n",
       "0  8d3cd87d-8a31-4935-9a4f-b319bfe05f31  photo        Studying   \n",
       "1  beb1f34e-7870-46d6-9fc7-2e12eb83ce43  photo  healthy eating   \n",
       "2  a5c65404-5894-4b87-82f2-d787cbee86b4  photo  healthy eating   \n",
       "3  9fb4ce88-fac1-406c-8544-1a899cee7aaf  photo      technology   \n",
       "4  e206e31b-5f85-4964-b6ea-d7ee5324def1  video            food   \n",
       "\n",
       "                                                 URL  \n",
       "0  https://socialbuzz.cdn.com/content/storage/975...  \n",
       "1  https://socialbuzz.cdn.com/content/storage/9f7...  \n",
       "2  https://socialbuzz.cdn.com/content/storage/230...  \n",
       "3  https://socialbuzz.cdn.com/content/storage/356...  \n",
       "4  https://socialbuzz.cdn.com/content/storage/01a...  "
      ]
     },
     "execution_count": 9,
     "metadata": {},
     "output_type": "execute_result"
    }
   ],
   "source": [
    "content.head()"
   ]
  },
  {
   "cell_type": "code",
   "execution_count": 10,
   "id": "877a79ae",
   "metadata": {},
   "outputs": [
    {
     "data": {
      "text/plain": [
       "Unnamed: 0      0\n",
       "Content ID      0\n",
       "User ID         0\n",
       "Type            0\n",
       "Category        0\n",
       "URL           199\n",
       "dtype: int64"
      ]
     },
     "execution_count": 10,
     "metadata": {},
     "output_type": "execute_result"
    }
   ],
   "source": [
    "content.isnull().sum()"
   ]
  },
  {
   "cell_type": "code",
   "execution_count": 11,
   "id": "83b65544",
   "metadata": {},
   "outputs": [
    {
     "name": "stdout",
     "output_type": "stream",
     "text": [
      "<class 'pandas.core.frame.DataFrame'>\n",
      "RangeIndex: 25553 entries, 0 to 25552\n",
      "Data columns (total 5 columns):\n",
      " #   Column      Non-Null Count  Dtype \n",
      "---  ------      --------------  ----- \n",
      " 0   Unnamed: 0  25553 non-null  int64 \n",
      " 1   Content ID  25553 non-null  object\n",
      " 2   User ID     22534 non-null  object\n",
      " 3   Type        24573 non-null  object\n",
      " 4   Datetime    25553 non-null  object\n",
      "dtypes: int64(1), object(4)\n",
      "memory usage: 998.3+ KB\n"
     ]
    }
   ],
   "source": [
    "reactions.info()"
   ]
  },
  {
   "cell_type": "code",
   "execution_count": 12,
   "id": "6dc85959",
   "metadata": {},
   "outputs": [
    {
     "data": {
      "text/html": [
       "<div>\n",
       "<style scoped>\n",
       "    .dataframe tbody tr th:only-of-type {\n",
       "        vertical-align: middle;\n",
       "    }\n",
       "\n",
       "    .dataframe tbody tr th {\n",
       "        vertical-align: top;\n",
       "    }\n",
       "\n",
       "    .dataframe thead th {\n",
       "        text-align: right;\n",
       "    }\n",
       "</style>\n",
       "<table border=\"1\" class=\"dataframe\">\n",
       "  <thead>\n",
       "    <tr style=\"text-align: right;\">\n",
       "      <th></th>\n",
       "      <th>Unnamed: 0</th>\n",
       "      <th>Content ID</th>\n",
       "      <th>User ID</th>\n",
       "      <th>Type</th>\n",
       "      <th>Datetime</th>\n",
       "    </tr>\n",
       "  </thead>\n",
       "  <tbody>\n",
       "    <tr>\n",
       "      <th>0</th>\n",
       "      <td>0</td>\n",
       "      <td>97522e57-d9ab-4bd6-97bf-c24d952602d2</td>\n",
       "      <td>NaN</td>\n",
       "      <td>NaN</td>\n",
       "      <td>2021-04-22 15:17:15</td>\n",
       "    </tr>\n",
       "    <tr>\n",
       "      <th>1</th>\n",
       "      <td>1</td>\n",
       "      <td>97522e57-d9ab-4bd6-97bf-c24d952602d2</td>\n",
       "      <td>5d454588-283d-459d-915d-c48a2cb4c27f</td>\n",
       "      <td>disgust</td>\n",
       "      <td>2020-11-07 09:43:50</td>\n",
       "    </tr>\n",
       "    <tr>\n",
       "      <th>2</th>\n",
       "      <td>2</td>\n",
       "      <td>97522e57-d9ab-4bd6-97bf-c24d952602d2</td>\n",
       "      <td>92b87fa5-f271-43e0-af66-84fac21052e6</td>\n",
       "      <td>dislike</td>\n",
       "      <td>2021-06-17 12:22:51</td>\n",
       "    </tr>\n",
       "    <tr>\n",
       "      <th>3</th>\n",
       "      <td>3</td>\n",
       "      <td>97522e57-d9ab-4bd6-97bf-c24d952602d2</td>\n",
       "      <td>163daa38-8b77-48c9-9af6-37a6c1447ac2</td>\n",
       "      <td>scared</td>\n",
       "      <td>2021-04-18 05:13:58</td>\n",
       "    </tr>\n",
       "    <tr>\n",
       "      <th>4</th>\n",
       "      <td>4</td>\n",
       "      <td>97522e57-d9ab-4bd6-97bf-c24d952602d2</td>\n",
       "      <td>34e8add9-0206-47fd-a501-037b994650a2</td>\n",
       "      <td>disgust</td>\n",
       "      <td>2021-01-06 19:13:01</td>\n",
       "    </tr>\n",
       "    <tr>\n",
       "      <th>...</th>\n",
       "      <td>...</td>\n",
       "      <td>...</td>\n",
       "      <td>...</td>\n",
       "      <td>...</td>\n",
       "      <td>...</td>\n",
       "    </tr>\n",
       "    <tr>\n",
       "      <th>25548</th>\n",
       "      <td>25548</td>\n",
       "      <td>75d6b589-7fae-4a6d-b0d0-752845150e56</td>\n",
       "      <td>80c9ce48-46f9-4f5e-b3ca-3b698fc2e949</td>\n",
       "      <td>dislike</td>\n",
       "      <td>2020-06-27 09:46:48</td>\n",
       "    </tr>\n",
       "    <tr>\n",
       "      <th>25549</th>\n",
       "      <td>25549</td>\n",
       "      <td>75d6b589-7fae-4a6d-b0d0-752845150e56</td>\n",
       "      <td>2bd9c167-e06c-47c1-a978-3403d6724606</td>\n",
       "      <td>intrigued</td>\n",
       "      <td>2021-02-16 17:17:02</td>\n",
       "    </tr>\n",
       "    <tr>\n",
       "      <th>25550</th>\n",
       "      <td>25550</td>\n",
       "      <td>75d6b589-7fae-4a6d-b0d0-752845150e56</td>\n",
       "      <td>NaN</td>\n",
       "      <td>interested</td>\n",
       "      <td>2020-09-12 03:54:58</td>\n",
       "    </tr>\n",
       "    <tr>\n",
       "      <th>25551</th>\n",
       "      <td>25551</td>\n",
       "      <td>75d6b589-7fae-4a6d-b0d0-752845150e56</td>\n",
       "      <td>5ffd8b51-164e-47e2-885e-8b8c46eb63ed</td>\n",
       "      <td>worried</td>\n",
       "      <td>2020-11-04 20:08:31</td>\n",
       "    </tr>\n",
       "    <tr>\n",
       "      <th>25552</th>\n",
       "      <td>25552</td>\n",
       "      <td>75d6b589-7fae-4a6d-b0d0-752845150e56</td>\n",
       "      <td>4edc3d1a-a7d9-4db6-89c3-f784d9954172</td>\n",
       "      <td>cherish</td>\n",
       "      <td>2021-01-04 04:55:11</td>\n",
       "    </tr>\n",
       "  </tbody>\n",
       "</table>\n",
       "<p>25553 rows × 5 columns</p>\n",
       "</div>"
      ],
      "text/plain": [
       "       Unnamed: 0                            Content ID  \\\n",
       "0               0  97522e57-d9ab-4bd6-97bf-c24d952602d2   \n",
       "1               1  97522e57-d9ab-4bd6-97bf-c24d952602d2   \n",
       "2               2  97522e57-d9ab-4bd6-97bf-c24d952602d2   \n",
       "3               3  97522e57-d9ab-4bd6-97bf-c24d952602d2   \n",
       "4               4  97522e57-d9ab-4bd6-97bf-c24d952602d2   \n",
       "...           ...                                   ...   \n",
       "25548       25548  75d6b589-7fae-4a6d-b0d0-752845150e56   \n",
       "25549       25549  75d6b589-7fae-4a6d-b0d0-752845150e56   \n",
       "25550       25550  75d6b589-7fae-4a6d-b0d0-752845150e56   \n",
       "25551       25551  75d6b589-7fae-4a6d-b0d0-752845150e56   \n",
       "25552       25552  75d6b589-7fae-4a6d-b0d0-752845150e56   \n",
       "\n",
       "                                    User ID        Type             Datetime  \n",
       "0                                       NaN         NaN  2021-04-22 15:17:15  \n",
       "1      5d454588-283d-459d-915d-c48a2cb4c27f     disgust  2020-11-07 09:43:50  \n",
       "2      92b87fa5-f271-43e0-af66-84fac21052e6     dislike  2021-06-17 12:22:51  \n",
       "3      163daa38-8b77-48c9-9af6-37a6c1447ac2      scared  2021-04-18 05:13:58  \n",
       "4      34e8add9-0206-47fd-a501-037b994650a2     disgust  2021-01-06 19:13:01  \n",
       "...                                     ...         ...                  ...  \n",
       "25548  80c9ce48-46f9-4f5e-b3ca-3b698fc2e949     dislike  2020-06-27 09:46:48  \n",
       "25549  2bd9c167-e06c-47c1-a978-3403d6724606   intrigued  2021-02-16 17:17:02  \n",
       "25550                                   NaN  interested  2020-09-12 03:54:58  \n",
       "25551  5ffd8b51-164e-47e2-885e-8b8c46eb63ed     worried  2020-11-04 20:08:31  \n",
       "25552  4edc3d1a-a7d9-4db6-89c3-f784d9954172     cherish  2021-01-04 04:55:11  \n",
       "\n",
       "[25553 rows x 5 columns]"
      ]
     },
     "execution_count": 12,
     "metadata": {},
     "output_type": "execute_result"
    }
   ],
   "source": [
    "reactions"
   ]
  },
  {
   "cell_type": "code",
   "execution_count": 13,
   "id": "b3b385fe",
   "metadata": {
    "scrolled": true
   },
   "outputs": [
    {
     "data": {
      "text/plain": [
       "Unnamed: 0       0\n",
       "Content ID       0\n",
       "User ID       3019\n",
       "Type           980\n",
       "Datetime         0\n",
       "dtype: int64"
      ]
     },
     "execution_count": 13,
     "metadata": {},
     "output_type": "execute_result"
    }
   ],
   "source": [
    "reactions.isnull().sum()"
   ]
  },
  {
   "cell_type": "markdown",
   "id": "599b24e1",
   "metadata": {},
   "source": [
    "`Not all 980 unique Content IDs in reactions df have reactions because there are 980 rows that have null for the series Type`."
   ]
  },
  {
   "cell_type": "markdown",
   "id": "0d34be9a",
   "metadata": {},
   "source": [
    "`Data Quality`:\n",
    "\n",
    "`1`: For content df: Completeness issue identified for column URL has 199 missing values. \n",
    "\n",
    "\n",
    "`2`: For reactions df: Completeness issue identified for columns User ID and Type- 3019 and 980 missing values    respectively. The series, User ID  has 3019 null values and it can be dropped from the reactions df because there is already a UUID of Content ID in reactions df. \n",
    "The Type series cannot be deleted because it is found in both reactions and reaction_types df. However, the rows of the series, Type that contain null values can be deleted because these rows will not be matched with a reaction type hence they will not be matched with a score and will not provide insight in the analysis. \n",
    "\n",
    "`3`: For content df: an consisteny issue identified for the category series. There are category names that are the same but the versions of the same names are capitalized, lower-case or in quotations. All category names need to be in the same format to get the end result of the top five categories. One way to fix this issue is to remove the quotations from all the words in this series and capitalize the first letter of every word in the series. \n",
    "`Tidiness`:\n",
    "`1`:Unnamed column can be removed from all columns because it is unnecessary for analysis.\n"
   ]
  },
  {
   "cell_type": "markdown",
   "id": "4f764663",
   "metadata": {},
   "source": [
    "`Define Task`:Remove the column URL, which has 199 missing values by using .drop(series, axis)."
   ]
  },
  {
   "cell_type": "markdown",
   "id": "b811f797",
   "metadata": {},
   "source": [
    "`Code`"
   ]
  },
  {
   "cell_type": "code",
   "execution_count": 14,
   "id": "8e9f7fc1",
   "metadata": {},
   "outputs": [],
   "source": [
    "# Resolving the completeness issue in content and ractions df by dropping URL\n",
    "content = content.drop(['URL', 'Type'], axis=1)"
   ]
  },
  {
   "cell_type": "markdown",
   "id": "67e9c6a5",
   "metadata": {},
   "source": [
    "`Test`"
   ]
  },
  {
   "cell_type": "code",
   "execution_count": 15,
   "id": "4501b82b",
   "metadata": {},
   "outputs": [
    {
     "name": "stdout",
     "output_type": "stream",
     "text": [
      "<class 'pandas.core.frame.DataFrame'>\n",
      "RangeIndex: 1000 entries, 0 to 999\n",
      "Data columns (total 4 columns):\n",
      " #   Column      Non-Null Count  Dtype \n",
      "---  ------      --------------  ----- \n",
      " 0   Unnamed: 0  1000 non-null   int64 \n",
      " 1   Content ID  1000 non-null   object\n",
      " 2   User ID     1000 non-null   object\n",
      " 3   Category    1000 non-null   object\n",
      "dtypes: int64(1), object(3)\n",
      "memory usage: 31.4+ KB\n"
     ]
    }
   ],
   "source": [
    "content.info()"
   ]
  },
  {
   "cell_type": "markdown",
   "id": "2c7f00d3",
   "metadata": {},
   "source": [
    "`Define Task`: Remove the User ID series in reactions and content df by using .drop(series, axis). "
   ]
  },
  {
   "cell_type": "markdown",
   "id": "11b1fae8",
   "metadata": {},
   "source": [
    "`Code`"
   ]
  },
  {
   "cell_type": "code",
   "execution_count": 16,
   "id": "70804059",
   "metadata": {},
   "outputs": [],
   "source": [
    "reactions = reactions.drop('User ID', axis =1)\n",
    "content = content.drop('User ID', axis =1)"
   ]
  },
  {
   "cell_type": "markdown",
   "id": "49d521f3",
   "metadata": {},
   "source": [
    "`Test`"
   ]
  },
  {
   "cell_type": "code",
   "execution_count": 17,
   "id": "648b8b2a",
   "metadata": {
    "scrolled": true
   },
   "outputs": [
    {
     "name": "stdout",
     "output_type": "stream",
     "text": [
      "<class 'pandas.core.frame.DataFrame'>\n",
      "RangeIndex: 25553 entries, 0 to 25552\n",
      "Data columns (total 4 columns):\n",
      " #   Column      Non-Null Count  Dtype \n",
      "---  ------      --------------  ----- \n",
      " 0   Unnamed: 0  25553 non-null  int64 \n",
      " 1   Content ID  25553 non-null  object\n",
      " 2   Type        24573 non-null  object\n",
      " 3   Datetime    25553 non-null  object\n",
      "dtypes: int64(1), object(3)\n",
      "memory usage: 798.7+ KB\n"
     ]
    }
   ],
   "source": [
    "reactions.info()"
   ]
  },
  {
   "cell_type": "code",
   "execution_count": 18,
   "id": "d89112a7",
   "metadata": {},
   "outputs": [
    {
     "name": "stdout",
     "output_type": "stream",
     "text": [
      "<class 'pandas.core.frame.DataFrame'>\n",
      "RangeIndex: 1000 entries, 0 to 999\n",
      "Data columns (total 3 columns):\n",
      " #   Column      Non-Null Count  Dtype \n",
      "---  ------      --------------  ----- \n",
      " 0   Unnamed: 0  1000 non-null   int64 \n",
      " 1   Content ID  1000 non-null   object\n",
      " 2   Category    1000 non-null   object\n",
      "dtypes: int64(1), object(2)\n",
      "memory usage: 23.6+ KB\n"
     ]
    }
   ],
   "source": [
    "content.info()"
   ]
  },
  {
   "cell_type": "markdown",
   "id": "04a25482",
   "metadata": {},
   "source": [
    "`Define`: Drop the rows in the type series of the reaction_types df containing null values by loc."
   ]
  },
  {
   "cell_type": "markdown",
   "id": "95b7f0fb",
   "metadata": {},
   "source": [
    "`Code`"
   ]
  },
  {
   "cell_type": "code",
   "execution_count": 19,
   "id": "d26ea429",
   "metadata": {
    "scrolled": true
   },
   "outputs": [],
   "source": [
    "drop_index = reactions.loc[reactions['Type'].isnull()].index\n",
    "drop_index = drop_index.tolist()"
   ]
  },
  {
   "cell_type": "code",
   "execution_count": 20,
   "id": "efea8861",
   "metadata": {},
   "outputs": [],
   "source": [
    "reactions.drop(drop_index, axis=0, inplace=True)"
   ]
  },
  {
   "cell_type": "code",
   "execution_count": 21,
   "id": "815e9e8f",
   "metadata": {
    "scrolled": true
   },
   "outputs": [
    {
     "data": {
      "text/plain": [
       "Unnamed: 0    0\n",
       "Content ID    0\n",
       "Type          0\n",
       "Datetime      0\n",
       "dtype: int64"
      ]
     },
     "execution_count": 21,
     "metadata": {},
     "output_type": "execute_result"
    }
   ],
   "source": [
    "reactions.isnull().sum()"
   ]
  },
  {
   "cell_type": "markdown",
   "id": "9a7bf60f",
   "metadata": {},
   "source": [
    "`Define`: Unnamed column can be removed from all dfs by using a for loop to remove the series from all dfs at once."
   ]
  },
  {
   "cell_type": "markdown",
   "id": "75ae9c30",
   "metadata": {},
   "source": [
    "`Code`"
   ]
  },
  {
   "cell_type": "code",
   "execution_count": 22,
   "id": "e79d171b",
   "metadata": {},
   "outputs": [],
   "source": [
    "dataframes = [content, reactions, reaction_types]"
   ]
  },
  {
   "cell_type": "code",
   "execution_count": 23,
   "id": "9030ea93",
   "metadata": {},
   "outputs": [],
   "source": [
    "for dfs in dataframes:\n",
    "    dfs.drop('Unnamed: 0', axis=1, inplace=True)"
   ]
  },
  {
   "cell_type": "markdown",
   "id": "3794da49",
   "metadata": {},
   "source": [
    "`Test`"
   ]
  },
  {
   "cell_type": "code",
   "execution_count": 24,
   "id": "afaab17b",
   "metadata": {
    "scrolled": true
   },
   "outputs": [
    {
     "name": "stdout",
     "output_type": "stream",
     "text": [
      "<class 'pandas.core.frame.DataFrame'>\n",
      "RangeIndex: 1000 entries, 0 to 999\n",
      "Data columns (total 2 columns):\n",
      " #   Column      Non-Null Count  Dtype \n",
      "---  ------      --------------  ----- \n",
      " 0   Content ID  1000 non-null   object\n",
      " 1   Category    1000 non-null   object\n",
      "dtypes: object(2)\n",
      "memory usage: 15.8+ KB\n",
      "<class 'pandas.core.frame.DataFrame'>\n",
      "Int64Index: 24573 entries, 1 to 25552\n",
      "Data columns (total 3 columns):\n",
      " #   Column      Non-Null Count  Dtype \n",
      "---  ------      --------------  ----- \n",
      " 0   Content ID  24573 non-null  object\n",
      " 1   Type        24573 non-null  object\n",
      " 2   Datetime    24573 non-null  object\n",
      "dtypes: object(3)\n",
      "memory usage: 767.9+ KB\n",
      "<class 'pandas.core.frame.DataFrame'>\n",
      "RangeIndex: 16 entries, 0 to 15\n",
      "Data columns (total 3 columns):\n",
      " #   Column     Non-Null Count  Dtype \n",
      "---  ------     --------------  ----- \n",
      " 0   Type       16 non-null     object\n",
      " 1   Sentiment  16 non-null     object\n",
      " 2   Score      16 non-null     int64 \n",
      "dtypes: int64(1), object(2)\n",
      "memory usage: 512.0+ bytes\n"
     ]
    }
   ],
   "source": [
    "for df in dataframes:\n",
    "    df.info()"
   ]
  },
  {
   "cell_type": "markdown",
   "id": "242abbf6",
   "metadata": {},
   "source": [
    "`Define`:All category names need to be in the same format to get the end result of the top five categories. One way to fix this issue is to remove the quotations from all the words in this series and capitalize the first letter of every word in the series. \n",
    "\n",
    "Remove quotations by using str.replace"
   ]
  },
  {
   "cell_type": "code",
   "execution_count": 25,
   "id": "0e8beec7",
   "metadata": {},
   "outputs": [
    {
     "data": {
      "text/html": [
       "<div>\n",
       "<style scoped>\n",
       "    .dataframe tbody tr th:only-of-type {\n",
       "        vertical-align: middle;\n",
       "    }\n",
       "\n",
       "    .dataframe tbody tr th {\n",
       "        vertical-align: top;\n",
       "    }\n",
       "\n",
       "    .dataframe thead th {\n",
       "        text-align: right;\n",
       "    }\n",
       "</style>\n",
       "<table border=\"1\" class=\"dataframe\">\n",
       "  <thead>\n",
       "    <tr style=\"text-align: right;\">\n",
       "      <th></th>\n",
       "      <th>Content ID</th>\n",
       "      <th>Category</th>\n",
       "    </tr>\n",
       "  </thead>\n",
       "  <tbody>\n",
       "    <tr>\n",
       "      <th>0</th>\n",
       "      <td>97522e57-d9ab-4bd6-97bf-c24d952602d2</td>\n",
       "      <td>Studying</td>\n",
       "    </tr>\n",
       "    <tr>\n",
       "      <th>1</th>\n",
       "      <td>9f737e0a-3cdd-4d29-9d24-753f4e3be810</td>\n",
       "      <td>healthy eating</td>\n",
       "    </tr>\n",
       "    <tr>\n",
       "      <th>2</th>\n",
       "      <td>230c4e4d-70c3-461d-b42c-ec09396efb3f</td>\n",
       "      <td>healthy eating</td>\n",
       "    </tr>\n",
       "    <tr>\n",
       "      <th>3</th>\n",
       "      <td>356fff80-da4d-4785-9f43-bc1261031dc6</td>\n",
       "      <td>technology</td>\n",
       "    </tr>\n",
       "    <tr>\n",
       "      <th>4</th>\n",
       "      <td>01ab84dd-6364-4236-abbb-3f237db77180</td>\n",
       "      <td>food</td>\n",
       "    </tr>\n",
       "    <tr>\n",
       "      <th>...</th>\n",
       "      <td>...</td>\n",
       "      <td>...</td>\n",
       "    </tr>\n",
       "    <tr>\n",
       "      <th>995</th>\n",
       "      <td>b4cef9ef-627b-41d7-a051-5961b0204ebb</td>\n",
       "      <td>public speaking</td>\n",
       "    </tr>\n",
       "    <tr>\n",
       "      <th>996</th>\n",
       "      <td>7a79f4e4-3b7d-44dc-bdef-bc990740252c</td>\n",
       "      <td>technology</td>\n",
       "    </tr>\n",
       "    <tr>\n",
       "      <th>997</th>\n",
       "      <td>435007a5-6261-4d8b-b0a4-55fdc189754b</td>\n",
       "      <td>veganism</td>\n",
       "    </tr>\n",
       "    <tr>\n",
       "      <th>998</th>\n",
       "      <td>4e4c9690-c013-4ee7-9e66-943d8cbd27b7</td>\n",
       "      <td>culture</td>\n",
       "    </tr>\n",
       "    <tr>\n",
       "      <th>999</th>\n",
       "      <td>75d6b589-7fae-4a6d-b0d0-752845150e56</td>\n",
       "      <td>technology</td>\n",
       "    </tr>\n",
       "  </tbody>\n",
       "</table>\n",
       "<p>1000 rows × 2 columns</p>\n",
       "</div>"
      ],
      "text/plain": [
       "                               Content ID         Category\n",
       "0    97522e57-d9ab-4bd6-97bf-c24d952602d2         Studying\n",
       "1    9f737e0a-3cdd-4d29-9d24-753f4e3be810   healthy eating\n",
       "2    230c4e4d-70c3-461d-b42c-ec09396efb3f   healthy eating\n",
       "3    356fff80-da4d-4785-9f43-bc1261031dc6       technology\n",
       "4    01ab84dd-6364-4236-abbb-3f237db77180             food\n",
       "..                                    ...              ...\n",
       "995  b4cef9ef-627b-41d7-a051-5961b0204ebb  public speaking\n",
       "996  7a79f4e4-3b7d-44dc-bdef-bc990740252c       technology\n",
       "997  435007a5-6261-4d8b-b0a4-55fdc189754b         veganism\n",
       "998  4e4c9690-c013-4ee7-9e66-943d8cbd27b7          culture\n",
       "999  75d6b589-7fae-4a6d-b0d0-752845150e56       technology\n",
       "\n",
       "[1000 rows x 2 columns]"
      ]
     },
     "execution_count": 25,
     "metadata": {},
     "output_type": "execute_result"
    }
   ],
   "source": [
    "content"
   ]
  },
  {
   "cell_type": "code",
   "execution_count": 26,
   "id": "72b1cc2d",
   "metadata": {},
   "outputs": [],
   "source": [
    "content['Category'] = content['Category'].str.strip('\"').str.title()"
   ]
  },
  {
   "cell_type": "code",
   "execution_count": 27,
   "id": "4792e39a",
   "metadata": {
    "scrolled": true
   },
   "outputs": [
    {
     "data": {
      "text/plain": [
       "Technology         73\n",
       "Animals            72\n",
       "Travel             69\n",
       "Science            68\n",
       "Culture            67\n",
       "Fitness            66\n",
       "Food               64\n",
       "Soccer             64\n",
       "Healthy Eating     62\n",
       "Cooking            61\n",
       "Tennis             59\n",
       "Education          59\n",
       "Studying           58\n",
       "Dogs               58\n",
       "Public Speaking    50\n",
       "Veganism           50\n",
       "Name: Category, dtype: int64"
      ]
     },
     "execution_count": 27,
     "metadata": {},
     "output_type": "execute_result"
    }
   ],
   "source": [
    "content['Category'].value_counts()"
   ]
  },
  {
   "cell_type": "code",
   "execution_count": 28,
   "id": "3ae4f2c2",
   "metadata": {
    "scrolled": true
   },
   "outputs": [
    {
     "data": {
      "text/plain": [
       "16"
      ]
     },
     "execution_count": 28,
     "metadata": {},
     "output_type": "execute_result"
    }
   ],
   "source": [
    "len(content['Category'].value_counts())"
   ]
  },
  {
   "cell_type": "markdown",
   "id": "4a7ff184",
   "metadata": {},
   "source": [
    "`The unique number of categories after cleaning up the format of the string is 16`."
   ]
  },
  {
   "cell_type": "markdown",
   "id": "16872fec",
   "metadata": {},
   "source": [
    "`Merging dfs`: \n",
    "    \n",
    "        First merge is the reactions df with the reaction_types on Type because Type series is in both dfs. \n",
    "\n",
    "        Second merge is the content df with the reactions df on matching identifier of Content ID."
   ]
  },
  {
   "cell_type": "markdown",
   "id": "4a7fd97f",
   "metadata": {},
   "source": [
    "`Code`"
   ]
  },
  {
   "cell_type": "code",
   "execution_count": 29,
   "id": "33850b8c",
   "metadata": {},
   "outputs": [],
   "source": [
    "reactions = pd.merge(reactions, reaction_types)"
   ]
  },
  {
   "cell_type": "markdown",
   "id": "7992ea08",
   "metadata": {},
   "source": [
    "`Datetime series is kept in the dataframe in case the company wants to review the timespan of the interactions with the different content categories`"
   ]
  },
  {
   "cell_type": "code",
   "execution_count": 30,
   "id": "811b320b",
   "metadata": {},
   "outputs": [
    {
     "data": {
      "text/html": [
       "<div>\n",
       "<style scoped>\n",
       "    .dataframe tbody tr th:only-of-type {\n",
       "        vertical-align: middle;\n",
       "    }\n",
       "\n",
       "    .dataframe tbody tr th {\n",
       "        vertical-align: top;\n",
       "    }\n",
       "\n",
       "    .dataframe thead th {\n",
       "        text-align: right;\n",
       "    }\n",
       "</style>\n",
       "<table border=\"1\" class=\"dataframe\">\n",
       "  <thead>\n",
       "    <tr style=\"text-align: right;\">\n",
       "      <th></th>\n",
       "      <th>Content ID</th>\n",
       "      <th>Type</th>\n",
       "      <th>Datetime</th>\n",
       "      <th>Sentiment</th>\n",
       "      <th>Score</th>\n",
       "    </tr>\n",
       "  </thead>\n",
       "  <tbody>\n",
       "    <tr>\n",
       "      <th>0</th>\n",
       "      <td>97522e57-d9ab-4bd6-97bf-c24d952602d2</td>\n",
       "      <td>disgust</td>\n",
       "      <td>2020-11-07 09:43:50</td>\n",
       "      <td>negative</td>\n",
       "      <td>0</td>\n",
       "    </tr>\n",
       "    <tr>\n",
       "      <th>1</th>\n",
       "      <td>97522e57-d9ab-4bd6-97bf-c24d952602d2</td>\n",
       "      <td>disgust</td>\n",
       "      <td>2021-01-06 19:13:01</td>\n",
       "      <td>negative</td>\n",
       "      <td>0</td>\n",
       "    </tr>\n",
       "    <tr>\n",
       "      <th>2</th>\n",
       "      <td>97522e57-d9ab-4bd6-97bf-c24d952602d2</td>\n",
       "      <td>disgust</td>\n",
       "      <td>2021-04-09 02:46:20</td>\n",
       "      <td>negative</td>\n",
       "      <td>0</td>\n",
       "    </tr>\n",
       "    <tr>\n",
       "      <th>3</th>\n",
       "      <td>9f737e0a-3cdd-4d29-9d24-753f4e3be810</td>\n",
       "      <td>disgust</td>\n",
       "      <td>2021-03-28 21:15:26</td>\n",
       "      <td>negative</td>\n",
       "      <td>0</td>\n",
       "    </tr>\n",
       "    <tr>\n",
       "      <th>4</th>\n",
       "      <td>230c4e4d-70c3-461d-b42c-ec09396efb3f</td>\n",
       "      <td>disgust</td>\n",
       "      <td>2020-08-04 05:40:33</td>\n",
       "      <td>negative</td>\n",
       "      <td>0</td>\n",
       "    </tr>\n",
       "    <tr>\n",
       "      <th>...</th>\n",
       "      <td>...</td>\n",
       "      <td>...</td>\n",
       "      <td>...</td>\n",
       "      <td>...</td>\n",
       "      <td>...</td>\n",
       "    </tr>\n",
       "    <tr>\n",
       "      <th>24568</th>\n",
       "      <td>435007a5-6261-4d8b-b0a4-55fdc189754b</td>\n",
       "      <td>adore</td>\n",
       "      <td>2020-10-04 22:26:33</td>\n",
       "      <td>positive</td>\n",
       "      <td>72</td>\n",
       "    </tr>\n",
       "    <tr>\n",
       "      <th>24569</th>\n",
       "      <td>435007a5-6261-4d8b-b0a4-55fdc189754b</td>\n",
       "      <td>adore</td>\n",
       "      <td>2020-09-18 10:50:50</td>\n",
       "      <td>positive</td>\n",
       "      <td>72</td>\n",
       "    </tr>\n",
       "    <tr>\n",
       "      <th>24570</th>\n",
       "      <td>4e4c9690-c013-4ee7-9e66-943d8cbd27b7</td>\n",
       "      <td>adore</td>\n",
       "      <td>2020-10-31 03:58:44</td>\n",
       "      <td>positive</td>\n",
       "      <td>72</td>\n",
       "    </tr>\n",
       "    <tr>\n",
       "      <th>24571</th>\n",
       "      <td>4e4c9690-c013-4ee7-9e66-943d8cbd27b7</td>\n",
       "      <td>adore</td>\n",
       "      <td>2020-06-25 15:12:29</td>\n",
       "      <td>positive</td>\n",
       "      <td>72</td>\n",
       "    </tr>\n",
       "    <tr>\n",
       "      <th>24572</th>\n",
       "      <td>4e4c9690-c013-4ee7-9e66-943d8cbd27b7</td>\n",
       "      <td>adore</td>\n",
       "      <td>2020-12-17 16:32:57</td>\n",
       "      <td>positive</td>\n",
       "      <td>72</td>\n",
       "    </tr>\n",
       "  </tbody>\n",
       "</table>\n",
       "<p>24573 rows × 5 columns</p>\n",
       "</div>"
      ],
      "text/plain": [
       "                                 Content ID     Type             Datetime  \\\n",
       "0      97522e57-d9ab-4bd6-97bf-c24d952602d2  disgust  2020-11-07 09:43:50   \n",
       "1      97522e57-d9ab-4bd6-97bf-c24d952602d2  disgust  2021-01-06 19:13:01   \n",
       "2      97522e57-d9ab-4bd6-97bf-c24d952602d2  disgust  2021-04-09 02:46:20   \n",
       "3      9f737e0a-3cdd-4d29-9d24-753f4e3be810  disgust  2021-03-28 21:15:26   \n",
       "4      230c4e4d-70c3-461d-b42c-ec09396efb3f  disgust  2020-08-04 05:40:33   \n",
       "...                                     ...      ...                  ...   \n",
       "24568  435007a5-6261-4d8b-b0a4-55fdc189754b    adore  2020-10-04 22:26:33   \n",
       "24569  435007a5-6261-4d8b-b0a4-55fdc189754b    adore  2020-09-18 10:50:50   \n",
       "24570  4e4c9690-c013-4ee7-9e66-943d8cbd27b7    adore  2020-10-31 03:58:44   \n",
       "24571  4e4c9690-c013-4ee7-9e66-943d8cbd27b7    adore  2020-06-25 15:12:29   \n",
       "24572  4e4c9690-c013-4ee7-9e66-943d8cbd27b7    adore  2020-12-17 16:32:57   \n",
       "\n",
       "      Sentiment  Score  \n",
       "0      negative      0  \n",
       "1      negative      0  \n",
       "2      negative      0  \n",
       "3      negative      0  \n",
       "4      negative      0  \n",
       "...         ...    ...  \n",
       "24568  positive     72  \n",
       "24569  positive     72  \n",
       "24570  positive     72  \n",
       "24571  positive     72  \n",
       "24572  positive     72  \n",
       "\n",
       "[24573 rows x 5 columns]"
      ]
     },
     "execution_count": 30,
     "metadata": {},
     "output_type": "execute_result"
    }
   ],
   "source": [
    "reactions"
   ]
  },
  {
   "cell_type": "code",
   "execution_count": 31,
   "id": "9e5bf052",
   "metadata": {},
   "outputs": [],
   "source": [
    "content_reactions = pd.merge(content, reactions)"
   ]
  },
  {
   "cell_type": "markdown",
   "id": "05ec4275",
   "metadata": {},
   "source": [
    "`Test`"
   ]
  },
  {
   "cell_type": "code",
   "execution_count": 32,
   "id": "60d5eb18",
   "metadata": {
    "scrolled": true
   },
   "outputs": [
    {
     "data": {
      "text/html": [
       "<div>\n",
       "<style scoped>\n",
       "    .dataframe tbody tr th:only-of-type {\n",
       "        vertical-align: middle;\n",
       "    }\n",
       "\n",
       "    .dataframe tbody tr th {\n",
       "        vertical-align: top;\n",
       "    }\n",
       "\n",
       "    .dataframe thead th {\n",
       "        text-align: right;\n",
       "    }\n",
       "</style>\n",
       "<table border=\"1\" class=\"dataframe\">\n",
       "  <thead>\n",
       "    <tr style=\"text-align: right;\">\n",
       "      <th></th>\n",
       "      <th>Content ID</th>\n",
       "      <th>Category</th>\n",
       "      <th>Type</th>\n",
       "      <th>Datetime</th>\n",
       "      <th>Sentiment</th>\n",
       "      <th>Score</th>\n",
       "    </tr>\n",
       "  </thead>\n",
       "  <tbody>\n",
       "    <tr>\n",
       "      <th>0</th>\n",
       "      <td>97522e57-d9ab-4bd6-97bf-c24d952602d2</td>\n",
       "      <td>Studying</td>\n",
       "      <td>disgust</td>\n",
       "      <td>2020-11-07 09:43:50</td>\n",
       "      <td>negative</td>\n",
       "      <td>0</td>\n",
       "    </tr>\n",
       "    <tr>\n",
       "      <th>1</th>\n",
       "      <td>97522e57-d9ab-4bd6-97bf-c24d952602d2</td>\n",
       "      <td>Studying</td>\n",
       "      <td>disgust</td>\n",
       "      <td>2021-01-06 19:13:01</td>\n",
       "      <td>negative</td>\n",
       "      <td>0</td>\n",
       "    </tr>\n",
       "    <tr>\n",
       "      <th>2</th>\n",
       "      <td>97522e57-d9ab-4bd6-97bf-c24d952602d2</td>\n",
       "      <td>Studying</td>\n",
       "      <td>disgust</td>\n",
       "      <td>2021-04-09 02:46:20</td>\n",
       "      <td>negative</td>\n",
       "      <td>0</td>\n",
       "    </tr>\n",
       "    <tr>\n",
       "      <th>3</th>\n",
       "      <td>97522e57-d9ab-4bd6-97bf-c24d952602d2</td>\n",
       "      <td>Studying</td>\n",
       "      <td>dislike</td>\n",
       "      <td>2021-06-17 12:22:51</td>\n",
       "      <td>negative</td>\n",
       "      <td>10</td>\n",
       "    </tr>\n",
       "    <tr>\n",
       "      <th>4</th>\n",
       "      <td>97522e57-d9ab-4bd6-97bf-c24d952602d2</td>\n",
       "      <td>Studying</td>\n",
       "      <td>dislike</td>\n",
       "      <td>2020-11-09 02:49:59</td>\n",
       "      <td>negative</td>\n",
       "      <td>10</td>\n",
       "    </tr>\n",
       "    <tr>\n",
       "      <th>...</th>\n",
       "      <td>...</td>\n",
       "      <td>...</td>\n",
       "      <td>...</td>\n",
       "      <td>...</td>\n",
       "      <td>...</td>\n",
       "      <td>...</td>\n",
       "    </tr>\n",
       "    <tr>\n",
       "      <th>24568</th>\n",
       "      <td>75d6b589-7fae-4a6d-b0d0-752845150e56</td>\n",
       "      <td>Technology</td>\n",
       "      <td>intrigued</td>\n",
       "      <td>2021-04-09 08:05:56</td>\n",
       "      <td>positive</td>\n",
       "      <td>45</td>\n",
       "    </tr>\n",
       "    <tr>\n",
       "      <th>24569</th>\n",
       "      <td>75d6b589-7fae-4a6d-b0d0-752845150e56</td>\n",
       "      <td>Technology</td>\n",
       "      <td>intrigued</td>\n",
       "      <td>2021-02-16 17:17:02</td>\n",
       "      <td>positive</td>\n",
       "      <td>45</td>\n",
       "    </tr>\n",
       "    <tr>\n",
       "      <th>24570</th>\n",
       "      <td>75d6b589-7fae-4a6d-b0d0-752845150e56</td>\n",
       "      <td>Technology</td>\n",
       "      <td>worried</td>\n",
       "      <td>2020-10-31 04:50:14</td>\n",
       "      <td>negative</td>\n",
       "      <td>12</td>\n",
       "    </tr>\n",
       "    <tr>\n",
       "      <th>24571</th>\n",
       "      <td>75d6b589-7fae-4a6d-b0d0-752845150e56</td>\n",
       "      <td>Technology</td>\n",
       "      <td>worried</td>\n",
       "      <td>2020-11-04 20:08:31</td>\n",
       "      <td>negative</td>\n",
       "      <td>12</td>\n",
       "    </tr>\n",
       "    <tr>\n",
       "      <th>24572</th>\n",
       "      <td>75d6b589-7fae-4a6d-b0d0-752845150e56</td>\n",
       "      <td>Technology</td>\n",
       "      <td>like</td>\n",
       "      <td>2021-06-07 03:55:33</td>\n",
       "      <td>positive</td>\n",
       "      <td>50</td>\n",
       "    </tr>\n",
       "  </tbody>\n",
       "</table>\n",
       "<p>24573 rows × 6 columns</p>\n",
       "</div>"
      ],
      "text/plain": [
       "                                 Content ID    Category       Type  \\\n",
       "0      97522e57-d9ab-4bd6-97bf-c24d952602d2    Studying    disgust   \n",
       "1      97522e57-d9ab-4bd6-97bf-c24d952602d2    Studying    disgust   \n",
       "2      97522e57-d9ab-4bd6-97bf-c24d952602d2    Studying    disgust   \n",
       "3      97522e57-d9ab-4bd6-97bf-c24d952602d2    Studying    dislike   \n",
       "4      97522e57-d9ab-4bd6-97bf-c24d952602d2    Studying    dislike   \n",
       "...                                     ...         ...        ...   \n",
       "24568  75d6b589-7fae-4a6d-b0d0-752845150e56  Technology  intrigued   \n",
       "24569  75d6b589-7fae-4a6d-b0d0-752845150e56  Technology  intrigued   \n",
       "24570  75d6b589-7fae-4a6d-b0d0-752845150e56  Technology    worried   \n",
       "24571  75d6b589-7fae-4a6d-b0d0-752845150e56  Technology    worried   \n",
       "24572  75d6b589-7fae-4a6d-b0d0-752845150e56  Technology       like   \n",
       "\n",
       "                  Datetime Sentiment  Score  \n",
       "0      2020-11-07 09:43:50  negative      0  \n",
       "1      2021-01-06 19:13:01  negative      0  \n",
       "2      2021-04-09 02:46:20  negative      0  \n",
       "3      2021-06-17 12:22:51  negative     10  \n",
       "4      2020-11-09 02:49:59  negative     10  \n",
       "...                    ...       ...    ...  \n",
       "24568  2021-04-09 08:05:56  positive     45  \n",
       "24569  2021-02-16 17:17:02  positive     45  \n",
       "24570  2020-10-31 04:50:14  negative     12  \n",
       "24571  2020-11-04 20:08:31  negative     12  \n",
       "24572  2021-06-07 03:55:33  positive     50  \n",
       "\n",
       "[24573 rows x 6 columns]"
      ]
     },
     "execution_count": 32,
     "metadata": {},
     "output_type": "execute_result"
    }
   ],
   "source": [
    "content_reactions"
   ]
  },
  {
   "cell_type": "code",
   "execution_count": 33,
   "id": "70014eba",
   "metadata": {},
   "outputs": [
    {
     "data": {
      "text/plain": [
       "heart          1622\n",
       "scared         1572\n",
       "peeking        1559\n",
       "hate           1552\n",
       "interested     1549\n",
       "dislike        1548\n",
       "adore          1548\n",
       "want           1539\n",
       "love           1534\n",
       "disgust        1526\n",
       "like           1520\n",
       "super love     1519\n",
       "indifferent    1512\n",
       "cherish        1501\n",
       "worried        1497\n",
       "intrigued      1475\n",
       "Name: Type, dtype: int64"
      ]
     },
     "execution_count": 33,
     "metadata": {},
     "output_type": "execute_result"
    }
   ],
   "source": [
    "content_reactions['Type'].value_counts()"
   ]
  },
  {
   "cell_type": "code",
   "execution_count": 34,
   "id": "10fdc928",
   "metadata": {},
   "outputs": [],
   "source": [
    "content_reactions.to_csv('data.csv')"
   ]
  },
  {
   "cell_type": "code",
   "execution_count": 35,
   "id": "98c21f54",
   "metadata": {},
   "outputs": [
    {
     "data": {
      "text/plain": [
       "Category\n",
       "Technology         40.481743\n",
       "Public Speaking    40.479869\n",
       "Healthy Eating     40.383809\n",
       "Education          40.080949\n",
       "Studying           39.815847\n",
       "Veganism           39.758814\n",
       "Culture            39.724940\n",
       "Soccer             39.658888\n",
       "Fitness            39.658065\n",
       "Science            39.625835\n",
       "Animals            39.517659\n",
       "Travel             39.392835\n",
       "Dogs               39.245889\n",
       "Food               39.244261\n",
       "Cooking            38.915865\n",
       "Tennis             37.905873\n",
       "Name: Score, dtype: float64"
      ]
     },
     "execution_count": 35,
     "metadata": {},
     "output_type": "execute_result"
    }
   ],
   "source": [
    "content_reactions.groupby('Category').Score.mean().sort_values(ascending=False)"
   ]
  },
  {
   "cell_type": "markdown",
   "id": "d56fd43b",
   "metadata": {},
   "source": [
    "### `Conclusion`: \n",
    "\n",
    "The top 5 categories are:\n",
    "\n",
    "1. Technology\n",
    "2. Public Speaking\n",
    "3. Healthy Eating\n",
    "4. Education\n",
    "5. Studying "
   ]
  },
  {
   "cell_type": "code",
   "execution_count": 36,
   "id": "c3e3c5c6",
   "metadata": {
    "scrolled": true
   },
   "outputs": [],
   "source": [
    "categories_mean = pd.DataFrame(content_reactions.groupby('Category').Score.mean().sort_values(ascending=False))\n",
    "categories_mean = categories_mean.reset_index()"
   ]
  },
  {
   "cell_type": "code",
   "execution_count": 37,
   "id": "191d6c9e",
   "metadata": {
    "scrolled": true
   },
   "outputs": [
    {
     "name": "stdout",
     "output_type": "stream",
     "text": [
      "<class 'pandas.core.frame.DataFrame'>\n",
      "RangeIndex: 16 entries, 0 to 15\n",
      "Data columns (total 2 columns):\n",
      " #   Column    Non-Null Count  Dtype  \n",
      "---  ------    --------------  -----  \n",
      " 0   Category  16 non-null     object \n",
      " 1   Score     16 non-null     float64\n",
      "dtypes: float64(1), object(1)\n",
      "memory usage: 384.0+ bytes\n"
     ]
    }
   ],
   "source": [
    "categories_mean.info()"
   ]
  },
  {
   "cell_type": "code",
   "execution_count": 38,
   "id": "9f113461",
   "metadata": {},
   "outputs": [
    {
     "data": {
      "image/png": "[encoded data removed]",
      "text/plain": [
       "<Figure size 432x288 with 1 Axes>"
      ]
     },
     "metadata": {
      "needs_background": "light"
     },
     "output_type": "display_data"
    }
   ],
   "source": [
    "categories_mean.plot(x='Category',  y='Score', kind='scatter')\n",
    "plt.xticks(rotation=90)\n",
    "plt.title('The average Score for 16 unique content categories at Social Buzz')\n",
    "plt.xlabel('Content Category')\n",
    "plt.ylabel('Average Score')\n",
    "plt.show()"
   ]
  },
  {
   "cell_type": "markdown",
   "id": "4836b3c3",
   "metadata": {},
   "source": [
    "`How many reactions are there to the most popular category?`\n"
   ]
  },
  {
   "cell_type": "code",
   "execution_count": 39,
   "id": "c2db4e07",
   "metadata": {},
   "outputs": [],
   "source": [
    "Top_category = content_reactions[content_reactions['Category'] == 'Technology']"
   ]
  },
  {
   "cell_type": "code",
   "execution_count": 40,
   "id": "04f400f3",
   "metadata": {},
   "outputs": [
    {
     "data": {
      "text/plain": [
       "adore          129\n",
       "interested     121\n",
       "peeking        116\n",
       "heart          114\n",
       "cherish        114\n",
       "want           113\n",
       "super love     113\n",
       "hate           112\n",
       "disgust        110\n",
       "worried        105\n",
       "indifferent     98\n",
       "love            96\n",
       "dislike         95\n",
       "scared          88\n",
       "intrigued       87\n",
       "like            87\n",
       "Name: Type, dtype: int64"
      ]
     },
     "execution_count": 40,
     "metadata": {},
     "output_type": "execute_result"
    }
   ],
   "source": [
    "Top_category['Type'].value_counts()"
   ]
  },
  {
   "cell_type": "code",
   "execution_count": 41,
   "id": "1d26056d",
   "metadata": {},
   "outputs": [
    {
     "data": {
      "text/plain": [
       "16"
      ]
     },
     "execution_count": 41,
     "metadata": {},
     "output_type": "execute_result"
    }
   ],
   "source": [
    "len(Top_category['Type'].value_counts())"
   ]
  },
  {
   "cell_type": "markdown",
   "id": "f85811cf",
   "metadata": {},
   "source": [
    "`What was the month with the most reactions?`"
   ]
  },
  {
   "cell_type": "code",
   "execution_count": 42,
   "id": "672191f4",
   "metadata": {},
   "outputs": [
    {
     "name": "stdout",
     "output_type": "stream",
     "text": [
      "<class 'pandas.core.frame.DataFrame'>\n",
      "Int64Index: 24573 entries, 0 to 24572\n",
      "Data columns (total 5 columns):\n",
      " #   Column      Non-Null Count  Dtype \n",
      "---  ------      --------------  ----- \n",
      " 0   Content ID  24573 non-null  object\n",
      " 1   Type        24573 non-null  object\n",
      " 2   Datetime    24573 non-null  object\n",
      " 3   Sentiment   24573 non-null  object\n",
      " 4   Score       24573 non-null  int64 \n",
      "dtypes: int64(1), object(4)\n",
      "memory usage: 1.1+ MB\n"
     ]
    }
   ],
   "source": [
    "reactions.info()"
   ]
  },
  {
   "cell_type": "code",
   "execution_count": 43,
   "id": "d67ed1c5",
   "metadata": {},
   "outputs": [],
   "source": [
    "content_reactions['Month'] = pd.DatetimeIndex(content_reactions['Datetime']).month\n",
    "content_reactions['Year'] = pd.DatetimeIndex(content_reactions['Datetime']).year"
   ]
  },
  {
   "cell_type": "code",
   "execution_count": 44,
   "id": "daadb8c9",
   "metadata": {},
   "outputs": [],
   "source": [
    "content_reactions['Datetime'] = pd.to_datetime(content_reactions['Datetime'])"
   ]
  },
  {
   "cell_type": "code",
   "execution_count": 45,
   "id": "f63d93c9",
   "metadata": {
    "scrolled": false
   },
   "outputs": [
    {
     "name": "stdout",
     "output_type": "stream",
     "text": [
      "<class 'pandas.core.frame.DataFrame'>\n",
      "Int64Index: 24573 entries, 0 to 24572\n",
      "Data columns (total 8 columns):\n",
      " #   Column      Non-Null Count  Dtype         \n",
      "---  ------      --------------  -----         \n",
      " 0   Content ID  24573 non-null  object        \n",
      " 1   Category    24573 non-null  object        \n",
      " 2   Type        24573 non-null  object        \n",
      " 3   Datetime    24573 non-null  datetime64[ns]\n",
      " 4   Sentiment   24573 non-null  object        \n",
      " 5   Score       24573 non-null  int64         \n",
      " 6   Month       24573 non-null  int64         \n",
      " 7   Year        24573 non-null  int64         \n",
      "dtypes: datetime64[ns](1), int64(3), object(4)\n",
      "memory usage: 1.7+ MB\n"
     ]
    }
   ],
   "source": [
    "content_reactions.info()"
   ]
  },
  {
   "cell_type": "code",
   "execution_count": 46,
   "id": "9ec13568",
   "metadata": {},
   "outputs": [],
   "source": [
    "content_reactions[['Month', 'Year']] = content_reactions[['Month', 'Year']].astype(str)"
   ]
  },
  {
   "cell_type": "code",
   "execution_count": 47,
   "id": "ae736efe",
   "metadata": {},
   "outputs": [
    {
     "name": "stdout",
     "output_type": "stream",
     "text": [
      "<class 'pandas.core.frame.DataFrame'>\n",
      "Int64Index: 24573 entries, 0 to 24572\n",
      "Data columns (total 8 columns):\n",
      " #   Column      Non-Null Count  Dtype         \n",
      "---  ------      --------------  -----         \n",
      " 0   Content ID  24573 non-null  object        \n",
      " 1   Category    24573 non-null  object        \n",
      " 2   Type        24573 non-null  object        \n",
      " 3   Datetime    24573 non-null  datetime64[ns]\n",
      " 4   Sentiment   24573 non-null  object        \n",
      " 5   Score       24573 non-null  int64         \n",
      " 6   Month       24573 non-null  object        \n",
      " 7   Year        24573 non-null  object        \n",
      "dtypes: datetime64[ns](1), int64(1), object(6)\n",
      "memory usage: 1.7+ MB\n"
     ]
    }
   ],
   "source": [
    "content_reactions.info()"
   ]
  },
  {
   "cell_type": "code",
   "execution_count": 48,
   "id": "27de6b30",
   "metadata": {
    "scrolled": true
   },
   "outputs": [
    {
     "data": {
      "text/html": [
       "<div>\n",
       "<style scoped>\n",
       "    .dataframe tbody tr th:only-of-type {\n",
       "        vertical-align: middle;\n",
       "    }\n",
       "\n",
       "    .dataframe tbody tr th {\n",
       "        vertical-align: top;\n",
       "    }\n",
       "\n",
       "    .dataframe thead th {\n",
       "        text-align: right;\n",
       "    }\n",
       "</style>\n",
       "<table border=\"1\" class=\"dataframe\">\n",
       "  <thead>\n",
       "    <tr style=\"text-align: right;\">\n",
       "      <th></th>\n",
       "      <th>Content ID</th>\n",
       "      <th>Category</th>\n",
       "      <th>Type</th>\n",
       "      <th>Datetime</th>\n",
       "      <th>Sentiment</th>\n",
       "      <th>Score</th>\n",
       "      <th>Month</th>\n",
       "      <th>Year</th>\n",
       "      <th>Month_Year</th>\n",
       "    </tr>\n",
       "  </thead>\n",
       "  <tbody>\n",
       "    <tr>\n",
       "      <th>0</th>\n",
       "      <td>97522e57-d9ab-4bd6-97bf-c24d952602d2</td>\n",
       "      <td>Studying</td>\n",
       "      <td>disgust</td>\n",
       "      <td>2020-11-07 09:43:50</td>\n",
       "      <td>negative</td>\n",
       "      <td>0</td>\n",
       "      <td>11</td>\n",
       "      <td>2020</td>\n",
       "      <td>2020-11</td>\n",
       "    </tr>\n",
       "    <tr>\n",
       "      <th>1</th>\n",
       "      <td>97522e57-d9ab-4bd6-97bf-c24d952602d2</td>\n",
       "      <td>Studying</td>\n",
       "      <td>disgust</td>\n",
       "      <td>2021-01-06 19:13:01</td>\n",
       "      <td>negative</td>\n",
       "      <td>0</td>\n",
       "      <td>1</td>\n",
       "      <td>2021</td>\n",
       "      <td>2021-1</td>\n",
       "    </tr>\n",
       "    <tr>\n",
       "      <th>2</th>\n",
       "      <td>97522e57-d9ab-4bd6-97bf-c24d952602d2</td>\n",
       "      <td>Studying</td>\n",
       "      <td>disgust</td>\n",
       "      <td>2021-04-09 02:46:20</td>\n",
       "      <td>negative</td>\n",
       "      <td>0</td>\n",
       "      <td>4</td>\n",
       "      <td>2021</td>\n",
       "      <td>2021-4</td>\n",
       "    </tr>\n",
       "    <tr>\n",
       "      <th>3</th>\n",
       "      <td>97522e57-d9ab-4bd6-97bf-c24d952602d2</td>\n",
       "      <td>Studying</td>\n",
       "      <td>dislike</td>\n",
       "      <td>2021-06-17 12:22:51</td>\n",
       "      <td>negative</td>\n",
       "      <td>10</td>\n",
       "      <td>6</td>\n",
       "      <td>2021</td>\n",
       "      <td>2021-6</td>\n",
       "    </tr>\n",
       "    <tr>\n",
       "      <th>4</th>\n",
       "      <td>97522e57-d9ab-4bd6-97bf-c24d952602d2</td>\n",
       "      <td>Studying</td>\n",
       "      <td>dislike</td>\n",
       "      <td>2020-11-09 02:49:59</td>\n",
       "      <td>negative</td>\n",
       "      <td>10</td>\n",
       "      <td>11</td>\n",
       "      <td>2020</td>\n",
       "      <td>2020-11</td>\n",
       "    </tr>\n",
       "    <tr>\n",
       "      <th>...</th>\n",
       "      <td>...</td>\n",
       "      <td>...</td>\n",
       "      <td>...</td>\n",
       "      <td>...</td>\n",
       "      <td>...</td>\n",
       "      <td>...</td>\n",
       "      <td>...</td>\n",
       "      <td>...</td>\n",
       "      <td>...</td>\n",
       "    </tr>\n",
       "    <tr>\n",
       "      <th>24568</th>\n",
       "      <td>75d6b589-7fae-4a6d-b0d0-752845150e56</td>\n",
       "      <td>Technology</td>\n",
       "      <td>intrigued</td>\n",
       "      <td>2021-04-09 08:05:56</td>\n",
       "      <td>positive</td>\n",
       "      <td>45</td>\n",
       "      <td>4</td>\n",
       "      <td>2021</td>\n",
       "      <td>2021-4</td>\n",
       "    </tr>\n",
       "    <tr>\n",
       "      <th>24569</th>\n",
       "      <td>75d6b589-7fae-4a6d-b0d0-752845150e56</td>\n",
       "      <td>Technology</td>\n",
       "      <td>intrigued</td>\n",
       "      <td>2021-02-16 17:17:02</td>\n",
       "      <td>positive</td>\n",
       "      <td>45</td>\n",
       "      <td>2</td>\n",
       "      <td>2021</td>\n",
       "      <td>2021-2</td>\n",
       "    </tr>\n",
       "    <tr>\n",
       "      <th>24570</th>\n",
       "      <td>75d6b589-7fae-4a6d-b0d0-752845150e56</td>\n",
       "      <td>Technology</td>\n",
       "      <td>worried</td>\n",
       "      <td>2020-10-31 04:50:14</td>\n",
       "      <td>negative</td>\n",
       "      <td>12</td>\n",
       "      <td>10</td>\n",
       "      <td>2020</td>\n",
       "      <td>2020-10</td>\n",
       "    </tr>\n",
       "    <tr>\n",
       "      <th>24571</th>\n",
       "      <td>75d6b589-7fae-4a6d-b0d0-752845150e56</td>\n",
       "      <td>Technology</td>\n",
       "      <td>worried</td>\n",
       "      <td>2020-11-04 20:08:31</td>\n",
       "      <td>negative</td>\n",
       "      <td>12</td>\n",
       "      <td>11</td>\n",
       "      <td>2020</td>\n",
       "      <td>2020-11</td>\n",
       "    </tr>\n",
       "    <tr>\n",
       "      <th>24572</th>\n",
       "      <td>75d6b589-7fae-4a6d-b0d0-752845150e56</td>\n",
       "      <td>Technology</td>\n",
       "      <td>like</td>\n",
       "      <td>2021-06-07 03:55:33</td>\n",
       "      <td>positive</td>\n",
       "      <td>50</td>\n",
       "      <td>6</td>\n",
       "      <td>2021</td>\n",
       "      <td>2021-6</td>\n",
       "    </tr>\n",
       "  </tbody>\n",
       "</table>\n",
       "<p>24573 rows × 9 columns</p>\n",
       "</div>"
      ],
      "text/plain": [
       "                                 Content ID    Category       Type  \\\n",
       "0      97522e57-d9ab-4bd6-97bf-c24d952602d2    Studying    disgust   \n",
       "1      97522e57-d9ab-4bd6-97bf-c24d952602d2    Studying    disgust   \n",
       "2      97522e57-d9ab-4bd6-97bf-c24d952602d2    Studying    disgust   \n",
       "3      97522e57-d9ab-4bd6-97bf-c24d952602d2    Studying    dislike   \n",
       "4      97522e57-d9ab-4bd6-97bf-c24d952602d2    Studying    dislike   \n",
       "...                                     ...         ...        ...   \n",
       "24568  75d6b589-7fae-4a6d-b0d0-752845150e56  Technology  intrigued   \n",
       "24569  75d6b589-7fae-4a6d-b0d0-752845150e56  Technology  intrigued   \n",
       "24570  75d6b589-7fae-4a6d-b0d0-752845150e56  Technology    worried   \n",
       "24571  75d6b589-7fae-4a6d-b0d0-752845150e56  Technology    worried   \n",
       "24572  75d6b589-7fae-4a6d-b0d0-752845150e56  Technology       like   \n",
       "\n",
       "                 Datetime Sentiment  Score Month  Year Month_Year  \n",
       "0     2020-11-07 09:43:50  negative      0    11  2020    2020-11  \n",
       "1     2021-01-06 19:13:01  negative      0     1  2021     2021-1  \n",
       "2     2021-04-09 02:46:20  negative      0     4  2021     2021-4  \n",
       "3     2021-06-17 12:22:51  negative     10     6  2021     2021-6  \n",
       "4     2020-11-09 02:49:59  negative     10    11  2020    2020-11  \n",
       "...                   ...       ...    ...   ...   ...        ...  \n",
       "24568 2021-04-09 08:05:56  positive     45     4  2021     2021-4  \n",
       "24569 2021-02-16 17:17:02  positive     45     2  2021     2021-2  \n",
       "24570 2020-10-31 04:50:14  negative     12    10  2020    2020-10  \n",
       "24571 2020-11-04 20:08:31  negative     12    11  2020    2020-11  \n",
       "24572 2021-06-07 03:55:33  positive     50     6  2021     2021-6  \n",
       "\n",
       "[24573 rows x 9 columns]"
      ]
     },
     "execution_count": 48,
     "metadata": {},
     "output_type": "execute_result"
    }
   ],
   "source": [
    "content_reactions['Month_Year'] = content_reactions['Year'] + '-' + content_reactions['Month'].apply(str)\n",
    "content_reactions"
   ]
  },
  {
   "cell_type": "code",
   "execution_count": 80,
   "id": "b898d27e",
   "metadata": {},
   "outputs": [
    {
     "data": {
      "text/plain": [
       "2021-5     2138\n",
       "2021-1     2126\n",
       "2020-8     2114\n",
       "2020-12    2092\n",
       "2020-7     2070\n",
       "2020-10    2056\n",
       "2020-11    2034\n",
       "2020-9     2022\n",
       "2021-3     2012\n",
       "2021-4     1974\n",
       "2021-2     1914\n",
       "2021-6     1129\n",
       "2020-6      892\n",
       "Name: Month_Year, dtype: int64"
      ]
     },
     "execution_count": 80,
     "metadata": {},
     "output_type": "execute_result"
    }
   ],
   "source": [
    "month_year_types = content_reactions['Month_Year'].value_counts().sort_values(ascending=False)\n",
    "month_year_types"
   ]
  },
  {
   "cell_type": "code",
   "execution_count": 83,
   "id": "0efd7495",
   "metadata": {
    "scrolled": true
   },
   "outputs": [
    {
     "data": {
      "image/png": "[encoded data removed]",
      "text/plain": [
       "<Figure size 432x288 with 1 Axes>"
      ]
     },
     "metadata": {
      "needs_background": "light"
     },
     "output_type": "display_data"
    }
   ],
   "source": [
    "base_color = sb.color_palette()[0]\n",
    "sb.countplot(data=content_reactions, x='Month_Year', color = base_color, order= month_year_types.index)\n",
    "\n",
    "for i in range (month_year_types.shape[0]):\n",
    "    count = month_year_types[i]\n",
    "    plt.text(i,count+100, count, ha='center', va = 'top')\n",
    "    \n",
    "plt.title('The number of reactions per month and year in descending order')\n",
    "plt.xticks(rotation=90);"
   ]
  },
  {
   "cell_type": "code",
   "execution_count": 52,
   "id": "01304642",
   "metadata": {},
   "outputs": [],
   "source": [
    "#content_reactions['Month'] = pd.DatetimeIndex(content_reactions['Datetime']).month\n",
    "#popular_month = pd.DataFrame(content_reactions.Month.value_counts())"
   ]
  },
  {
   "cell_type": "code",
   "execution_count": 53,
   "id": "f75330d6",
   "metadata": {},
   "outputs": [],
   "source": [
    "#popular_month = popular_month.reset_index()"
   ]
  },
  {
   "cell_type": "code",
   "execution_count": 54,
   "id": "01782fa1",
   "metadata": {
    "scrolled": true
   },
   "outputs": [],
   "source": [
    "#popular_month = popular_month.rename(columns ={'index':'Month', 'Month': 'Unique_Values'})"
   ]
  },
  {
   "cell_type": "code",
   "execution_count": 55,
   "id": "eef02038",
   "metadata": {
    "scrolled": true
   },
   "outputs": [],
   "source": [
    "#popular_month"
   ]
  },
  {
   "cell_type": "code",
   "execution_count": 56,
   "id": "8e3724f4",
   "metadata": {},
   "outputs": [],
   "source": [
    "#plt.scatter(data=popular_month, x='Month', y='Unique_Values')\n",
    "#plt.title('The number of reactions for each month')\n",
    "#plt.xlabel('Month')\n",
    "#plt.ylabel('Total number of reactions');"
   ]
  },
  {
   "cell_type": "markdown",
   "id": "8de3f806",
   "metadata": {},
   "source": [
    "`Process followed in this Data Analysis`: \n",
    "\n",
    "Data Understanding-The data model, which generated the three datasets with\n",
    "information on content categories, sections and reaction types \n",
    "was reviewed with the team and the unique identifiers were \n",
    "recognized for each dataset.\n",
    "\n",
    "Data Assessment- The three datasets were imported into Jupyter Notebook, \n",
    "a tool that allows for programmatic assessment using Python, \n",
    "for data analysis. Jupyter Notebook contains both code and text\n",
    "cells that facilitate an easy step-by-step process of analyzing the data.\n",
    "\n",
    "Data Cleaning- A programmatic assessment was conducted on the three datasets\n",
    "(content, reactions, and reaction types) to ensure their quality.\n",
    "Using Jupyter Notebook, any identified issues with the data's quality \n",
    "or organization were programmatically cleaned and a cleaned, master dataset was created.\n",
    "\n",
    "Uncovering Insights - The master dataset included scores for each reaction type \n",
    "within each category type. These scores were grouped and sorted in \n",
    "descending order, resulting in the top 5 content categories.\n"
   ]
  }
 ],
 "metadata": {
  "kernelspec": {
   "display_name": "Python 3 (ipykernel)",
   "language": "python",
   "name": "python3"
  },
  "language_info": {
   "codemirror_mode": {
    "name": "ipython",
    "version": 3
   },
   "file_extension": ".py",
   "mimetype": "text/x-python",
   "name": "python",
   "nbconvert_exporter": "python",
   "pygments_lexer": "ipython3",
   "version": "3.9.12"
  }
 },
 "nbformat": 4,
 "nbformat_minor": 5
}
